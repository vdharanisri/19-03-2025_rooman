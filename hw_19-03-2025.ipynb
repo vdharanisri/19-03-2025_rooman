{
 "cells": [
  {
   "cell_type": "markdown",
   "id": "e55c425f",
   "metadata": {},
   "source": [
    "# Count the number of words in a given sentence"
   ]
  },
  {
   "cell_type": "code",
   "execution_count": 4,
   "id": "6b893cfe",
   "metadata": {},
   "outputs": [
    {
     "name": "stdout",
     "output_type": "stream",
     "text": [
      "word count: 19\n"
     ]
    }
   ],
   "source": [
    "def count_words(sentence):\n",
    "  return len(sentence.split())\n",
    "sentence=\"wikipedia is a free online encyclopedia , created by volunteers around the world and trusted by the wikimedia foundation\"\n",
    "word_count=count_words(sentence)\n",
    "print(\"word count:\",word_count)"
   ]
  },
  {
   "cell_type": "markdown",
   "id": "f93287a3",
   "metadata": {},
   "source": [
    "# Return a string of Hyphens based on input number"
   ]
  },
  {
   "cell_type": "code",
   "execution_count": 1,
   "id": "84469e11",
   "metadata": {},
   "outputs": [
    {
     "name": "stdout",
     "output_type": "stream",
     "text": [
      "enter number9\n"
     ]
    },
    {
     "data": {
      "text/plain": [
       "'---------'"
      ]
     },
     "execution_count": 1,
     "metadata": {},
     "output_type": "execute_result"
    }
   ],
   "source": [
    "def enter(n):\n",
    "    return '-'*n\n",
    "n=int(input(\"enter number\"))\n",
    "enter(n)"
   ]
  },
  {
   "cell_type": "markdown",
   "id": "f6d06cd2",
   "metadata": {},
   "source": [
    "# Check if a string is a\"safe bridge\" "
   ]
  },
  {
   "cell_type": "code",
   "execution_count": 3,
   "id": "3457f30b",
   "metadata": {},
   "outputs": [
    {
     "name": "stdout",
     "output_type": "stream",
     "text": [
      "enter:hithisisuma\n"
     ]
    },
    {
     "data": {
      "text/plain": [
       "'safe brige'"
      ]
     },
     "execution_count": 3,
     "metadata": {},
     "output_type": "execute_result"
    }
   ],
   "source": [
    "def safe_bridge(enterstring):\n",
    "    return \"safe brige\" if \" \" not in enterstring else \"not safe bridge\"\n",
    "enterstring=input(\"enter:\")\n",
    "safe_bridge(enterstring)"
   ]
  },
  {
   "cell_type": "code",
   "execution_count": 4,
   "id": "416a47c4",
   "metadata": {},
   "outputs": [
    {
     "name": "stdout",
     "output_type": "stream",
     "text": [
      "enter a string:hi hi this is uma\n",
      "Not a safe bridge\n"
     ]
    }
   ],
   "source": [
    "def is_safe_bridge(string):\n",
    "  return\"safe Bridge\"if \" \"not in string else\"Not a safe bridge\"\n",
    "input_string=input(\"enter a string:\")\n",
    "print(is_safe_bridge(input_string))"
   ]
  },
  {
   "cell_type": "markdown",
   "id": "ef997a2d",
   "metadata": {},
   "source": [
    "# Count occurrences of the letter'D'"
   ]
  },
  {
   "cell_type": "code",
   "execution_count": 5,
   "id": "d9f695ae",
   "metadata": {},
   "outputs": [
    {
     "name": "stdout",
     "output_type": "stream",
     "text": [
      "2\n"
     ]
    }
   ],
   "source": [
    "user_string=\"Debris was scattered all over the place in the densest region of Denmark\"\n",
    "num=0\n",
    "for e in user_string:\n",
    "    if e==\"D\":\n",
    "        num=num+1\n",
    "print(num)\n"
   ]
  },
  {
   "cell_type": "code",
   "execution_count": 6,
   "id": "a6e99ea8",
   "metadata": {},
   "outputs": [
    {
     "name": "stdout",
     "output_type": "stream",
     "text": [
      "no of D's 2\n"
     ]
    }
   ],
   "source": [
    "def count_d(string):\n",
    "  return string.count('D')\n",
    "str=\"Debris was scattered all over the place in the densest region of Denmark\"\n",
    "print(\"no of D's\",count_d(str))"
   ]
  },
  {
   "cell_type": "markdown",
   "id": "7b074fc3",
   "metadata": {},
   "source": [
    "# Check if a given string is a palindrome"
   ]
  },
  {
   "cell_type": "code",
   "execution_count": 7,
   "id": "a61eaa9d",
   "metadata": {},
   "outputs": [
    {
     "name": "stdout",
     "output_type": "stream",
     "text": [
      "True\n"
     ]
    }
   ],
   "source": [
    "def is_palindrome(string):\n",
    "  return string==string[::-1]\n",
    "str=\"madam\"\n",
    "print(is_palindrome(str))"
   ]
  },
  {
   "cell_type": "code",
   "execution_count": null,
   "id": "28205692",
   "metadata": {},
   "outputs": [],
   "source": []
  }
 ],
 "metadata": {
  "kernelspec": {
   "display_name": "Python 3 (ipykernel)",
   "language": "python",
   "name": "python3"
  },
  "language_info": {
   "codemirror_mode": {
    "name": "ipython",
    "version": 3
   },
   "file_extension": ".py",
   "mimetype": "text/x-python",
   "name": "python",
   "nbconvert_exporter": "python",
   "pygments_lexer": "ipython3",
   "version": "3.9.12"
  }
 },
 "nbformat": 4,
 "nbformat_minor": 5
}
